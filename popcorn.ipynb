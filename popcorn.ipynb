{
 "cells": [
  {
   "cell_type": "markdown",
   "metadata": {},
   "source": [
    "# Popcorn\n",
    "\n",
    "---\n",
    "\n",
    "You're a force to be reckoned with. You are team \"Popcorn\". Working for a big movie studio, you need to report on metrics that will help: **A)** sell movie ideas to potential investors, and **B)** maximize product placement and / or sponsorships.\n",
    "\n",
    "**Your studios lead data scientist has given you some direction / starting points:**\n",
    " - Which movies remained in the top 10 the longest?\n",
    " - Which movies were good investments?\n",
    " - Are there any interesting trends throughout the year?\n",
    " - Google anything interesting about flagship movies in terms of partnerships and how those deals could be relevant to consider in our own research.\n",
    " \n",
    "**Bonus:**\n",
    " - Do any holidays impact sales performance or position?  How could we leverage this?\n",
    " - What could we look at outside our dataset that may help project good investments?\n",
    "\n",
    "\n",
    "#### End with some kind of recommendation for new partnership engagements, tied to your opening goals / metrics.\n",
    "\n",
    "How reliable can your reocmmendation(s) be?  Back up your assumptions with facts and data.\n",
    "\n",
    "_[There's a data dictionary available!](http://www.amstat.org/publications/jse/v17n1/datasets.mclaren.html)_\n",
    "\n",
    "Keep in mind the main points when presenting your findings!  It's interesting to share details and sidepoints, but make sure they're supporting and relating to pitching movies to investment, and helping maximize our partnership goals.\n"
   ]
  },
  {
   "cell_type": "markdown",
   "metadata": {},
   "source": [
    "# Fang Hong"
   ]
  },
  {
   "cell_type": "code",
   "execution_count": 109,
   "metadata": {
    "scrolled": true
   },
   "outputs": [
    {
     "data": {
      "text/html": [
       "<div>\n",
       "<style>\n",
       "    .dataframe thead tr:only-child th {\n",
       "        text-align: right;\n",
       "    }\n",
       "\n",
       "    .dataframe thead th {\n",
       "        text-align: left;\n",
       "    }\n",
       "\n",
       "    .dataframe tbody tr th {\n",
       "        vertical-align: top;\n",
       "    }\n",
       "</style>\n",
       "<table border=\"1\" class=\"dataframe\">\n",
       "  <thead>\n",
       "    <tr style=\"text-align: right;\">\n",
       "      <th></th>\n",
       "      <th>NUMBER</th>\n",
       "      <th>MOVIE</th>\n",
       "      <th>WEEK_NUM</th>\n",
       "      <th>WEEKEND_PER_THEATER</th>\n",
       "      <th>WEEKEND_DATE</th>\n",
       "    </tr>\n",
       "  </thead>\n",
       "  <tbody>\n",
       "    <tr>\n",
       "      <th>0</th>\n",
       "      <td>1.0</td>\n",
       "      <td>A Beautiful Mind</td>\n",
       "      <td>1.0</td>\n",
       "      <td>701.0</td>\n",
       "      <td>12/21/01</td>\n",
       "    </tr>\n",
       "    <tr>\n",
       "      <th>1</th>\n",
       "      <td>1.0</td>\n",
       "      <td>A Beautiful Mind</td>\n",
       "      <td>2.0</td>\n",
       "      <td>14820.0</td>\n",
       "      <td>12/28/01</td>\n",
       "    </tr>\n",
       "    <tr>\n",
       "      <th>2</th>\n",
       "      <td>1.0</td>\n",
       "      <td>A Beautiful Mind</td>\n",
       "      <td>3.0</td>\n",
       "      <td>8940.0</td>\n",
       "      <td>1/4/02</td>\n",
       "    </tr>\n",
       "    <tr>\n",
       "      <th>3</th>\n",
       "      <td>1.0</td>\n",
       "      <td>A Beautiful Mind</td>\n",
       "      <td>4.0</td>\n",
       "      <td>6850.0</td>\n",
       "      <td>1/11/02</td>\n",
       "    </tr>\n",
       "    <tr>\n",
       "      <th>4</th>\n",
       "      <td>1.0</td>\n",
       "      <td>A Beautiful Mind</td>\n",
       "      <td>5.0</td>\n",
       "      <td>5280.0</td>\n",
       "      <td>1/18/02</td>\n",
       "    </tr>\n",
       "    <tr>\n",
       "      <th>5</th>\n",
       "      <td>1.0</td>\n",
       "      <td>A Beautiful Mind</td>\n",
       "      <td>6.0</td>\n",
       "      <td>5155.0</td>\n",
       "      <td>1/25/02</td>\n",
       "    </tr>\n",
       "    <tr>\n",
       "      <th>6</th>\n",
       "      <td>1.0</td>\n",
       "      <td>A Beautiful Mind</td>\n",
       "      <td>7.0</td>\n",
       "      <td>3735.0</td>\n",
       "      <td>2/1/02</td>\n",
       "    </tr>\n",
       "    <tr>\n",
       "      <th>7</th>\n",
       "      <td>1.0</td>\n",
       "      <td>A Beautiful Mind</td>\n",
       "      <td>8.0</td>\n",
       "      <td>2840.0</td>\n",
       "      <td>2/8/02</td>\n",
       "    </tr>\n",
       "    <tr>\n",
       "      <th>8</th>\n",
       "      <td>1.0</td>\n",
       "      <td>A Beautiful Mind</td>\n",
       "      <td>9.0</td>\n",
       "      <td>3890.0</td>\n",
       "      <td>2/15/02</td>\n",
       "    </tr>\n",
       "    <tr>\n",
       "      <th>9</th>\n",
       "      <td>1.0</td>\n",
       "      <td>A Beautiful Mind</td>\n",
       "      <td>10.0</td>\n",
       "      <td>2565.0</td>\n",
       "      <td>2/22/02</td>\n",
       "    </tr>\n",
       "  </tbody>\n",
       "</table>\n",
       "</div>"
      ],
      "text/plain": [
       "   NUMBER             MOVIE  WEEK_NUM  WEEKEND_PER_THEATER WEEKEND_DATE\n",
       "0     1.0  A Beautiful Mind       1.0                701.0     12/21/01\n",
       "1     1.0  A Beautiful Mind       2.0              14820.0     12/28/01\n",
       "2     1.0  A Beautiful Mind       3.0               8940.0       1/4/02\n",
       "3     1.0  A Beautiful Mind       4.0               6850.0      1/11/02\n",
       "4     1.0  A Beautiful Mind       5.0               5280.0      1/18/02\n",
       "5     1.0  A Beautiful Mind       6.0               5155.0      1/25/02\n",
       "6     1.0  A Beautiful Mind       7.0               3735.0       2/1/02\n",
       "7     1.0  A Beautiful Mind       8.0               2840.0       2/8/02\n",
       "8     1.0  A Beautiful Mind       9.0               3890.0      2/15/02\n",
       "9     1.0  A Beautiful Mind      10.0               2565.0      2/22/02"
      ]
     },
     "execution_count": 109,
     "metadata": {},
     "output_type": "execute_result"
    }
   ],
   "source": [
    "import pandas as pd\n",
    "import numpy as np\n",
    "import seaborn as sns\n",
    "import matplotlib.pyplot as plt\n",
    "plt.style.use('fivethirtyeight')\n",
    "%matplotlib inline\n",
    "\n",
    "# Increase default figure and font sizes for easier viewing.\n",
    "plt.rcParams['figure.figsize'] = (8, 6)\n",
    "plt.rcParams['font.size'] = 14\n",
    "\n",
    "movies = pd.read_csv(\"/Users/fanghong/Dropbox/GA/eda-group_projects_1-lab/datasets/movie_weekend.csv\")\n",
    "\n",
    "movies.head(10)\n",
    "\n",
    "#movies.tail(10)\n"
   ]
  },
  {
   "cell_type": "markdown",
   "metadata": {
    "collapsed": true
   },
   "source": [
    "# Goal1: Which movies remained in the top 10 the longest?"
   ]
  },
  {
   "cell_type": "code",
   "execution_count": 199,
   "metadata": {},
   "outputs": [
    {
     "data": {
      "text/plain": [
       "ET                         52\n",
       "Raiders of the Lost Ark    43\n",
       "Return of the Jedi         42\n",
       "Forrest Gump               42\n",
       "Titanic                    41\n",
       "American Beauty            38\n",
       "Chicago                    36\n",
       "Gladiator                  33\n",
       "Beverly Hills Cop          33\n",
       "Shakespeare in Love        33\n",
       "Name: MOVIE, dtype: int64"
      ]
     },
     "execution_count": 199,
     "metadata": {},
     "output_type": "execute_result"
    }
   ],
   "source": [
    "# count the numbers of each movie and find out the top 10-\\\n",
    "top10=movies.MOVIE.value_counts().sort_values(ascending=False)\n",
    "top10.head(10)"
   ]
  },
  {
   "cell_type": "markdown",
   "metadata": {},
   "source": [
    "# Goal 2: Which movies were good investments?"
   ]
  },
  {
   "cell_type": "code",
   "execution_count": 111,
   "metadata": {},
   "outputs": [
    {
     "data": {
      "text/plain": [
       "MOVIE\n",
       "Star Wars                    228181.0\n",
       "ET                           201257.0\n",
       "Empire Strikes Back, The     178013.0\n",
       "American Beauty              165891.0\n",
       "Titanic                      165701.0\n",
       "Return of the Jedi           163572.0\n",
       "Million Dollar Baby          154115.0\n",
       "Chicago                      146062.0\n",
       "Raiders of the Lost Ark      144778.0\n",
       "Forrest Gump                 128534.0\n",
       "Home Alone                   128472.0\n",
       "Shakespeare in Love          126779.0\n",
       "Beverly Hills Cop            115915.0\n",
       "Ghost Busters                113540.0\n",
       "Star Wars: Phantom Menace    107684.0\n",
       "Name: WEEKEND_PER_THEATER, dtype: float64"
      ]
     },
     "execution_count": 111,
     "metadata": {},
     "output_type": "execute_result"
    }
   ],
   "source": [
    "1. # group by movie name and find out the values they earn\n",
    "sorted_investment=movies.groupby('MOVIE').WEEKEND_PER_THEATER.sum().sort_values(ascending=False)\n",
    "sorted_investment.head(15)"
   ]
  },
  {
   "cell_type": "code",
   "execution_count": 22,
   "metadata": {},
   "outputs": [
    {
     "data": {
      "text/plain": [
       "<matplotlib.axes._subplots.AxesSubplot at 0x1a1ed7e190>"
      ]
     },
     "execution_count": 22,
     "metadata": {},
     "output_type": "execute_result"
    },
    {
     "data": {
      "image/png": "[encoded data removed]",
      "text/plain": [
       "<matplotlib.figure.Figure at 0x1a1ed9ad90>"
      ]
     },
     "metadata": {},
     "output_type": "display_data"
    }
   ],
   "source": [
    "# bar graph of top 15 movies\n",
    "sorted_investment.head(15).plot(kind='bar')"
   ]
  },
  {
   "cell_type": "code",
   "execution_count": 112,
   "metadata": {},
   "outputs": [
    {
     "data": {
      "text/plain": [
       "count        53.000000\n",
       "mean      85998.094340\n",
       "std       50383.408183\n",
       "min         474.000000\n",
       "25%       57568.000000\n",
       "50%       73643.000000\n",
       "75%      113540.000000\n",
       "max      228181.000000\n",
       "Name: WEEKEND_PER_THEATER, dtype: float64"
      ]
     },
     "execution_count": 112,
     "metadata": {},
     "output_type": "execute_result"
    }
   ],
   "source": [
    "# 2. FIND OUT which movies have values that are above 75%? (top 25%)\n",
    "# STEP 1: first calculate the cutpoint of 75%.\n",
    "revenue=movies.groupby('MOVIE').WEEKEND_PER_THEATER.sum()\n",
    "describe=revenue.describe()\n",
    "describe"
   ]
  },
  {
   "cell_type": "code",
   "execution_count": 113,
   "metadata": {},
   "outputs": [
    {
     "data": {
      "text/plain": [
       "113540.0"
      ]
     },
     "execution_count": 113,
     "metadata": {},
     "output_type": "execute_result"
    }
   ],
   "source": [
    "# save the 75% value\n",
    "revenue_75=describe[6]\n",
    "revenue_75"
   ]
  },
  {
   "cell_type": "code",
   "execution_count": 114,
   "metadata": {},
   "outputs": [
    {
     "data": {
      "text/html": [
       "<div>\n",
       "<style>\n",
       "    .dataframe thead tr:only-child th {\n",
       "        text-align: right;\n",
       "    }\n",
       "\n",
       "    .dataframe thead th {\n",
       "        text-align: left;\n",
       "    }\n",
       "\n",
       "    .dataframe tbody tr th {\n",
       "        vertical-align: top;\n",
       "    }\n",
       "</style>\n",
       "<table border=\"1\" class=\"dataframe\">\n",
       "  <thead>\n",
       "    <tr style=\"text-align: right;\">\n",
       "      <th></th>\n",
       "      <th>MOVIE</th>\n",
       "      <th>WEEKEND_PER_THEATER</th>\n",
       "    </tr>\n",
       "  </thead>\n",
       "  <tbody>\n",
       "    <tr>\n",
       "      <th>0</th>\n",
       "      <td>A Beautiful Mind</td>\n",
       "      <td>74851.0</td>\n",
       "    </tr>\n",
       "    <tr>\n",
       "      <th>1</th>\n",
       "      <td>American Beauty</td>\n",
       "      <td>165891.0</td>\n",
       "    </tr>\n",
       "    <tr>\n",
       "      <th>2</th>\n",
       "      <td>Batman</td>\n",
       "      <td>72861.0</td>\n",
       "    </tr>\n",
       "    <tr>\n",
       "      <th>3</th>\n",
       "      <td>Beverly Hills Cop</td>\n",
       "      <td>115915.0</td>\n",
       "    </tr>\n",
       "    <tr>\n",
       "      <th>4</th>\n",
       "      <td>Chicago</td>\n",
       "      <td>146062.0</td>\n",
       "    </tr>\n",
       "  </tbody>\n",
       "</table>\n",
       "</div>"
      ],
      "text/plain": [
       "               MOVIE  WEEKEND_PER_THEATER\n",
       "0   A Beautiful Mind              74851.0\n",
       "1    American Beauty             165891.0\n",
       "2             Batman              72861.0\n",
       "3  Beverly Hills Cop             115915.0\n",
       "4            Chicago             146062.0"
      ]
     },
     "execution_count": 114,
     "metadata": {},
     "output_type": "execute_result"
    }
   ],
   "source": [
    "#  STEP 2: caculate the sum of each movies\n",
    "movie_revenue=movies.groupby('MOVIE')['WEEKEND_PER_THEATER'].sum().reset_index()\n",
    "movie_revenue.head()"
   ]
  },
  {
   "cell_type": "code",
   "execution_count": 115,
   "metadata": {},
   "outputs": [
    {
     "data": {
      "text/html": [
       "<div>\n",
       "<style>\n",
       "    .dataframe thead tr:only-child th {\n",
       "        text-align: right;\n",
       "    }\n",
       "\n",
       "    .dataframe thead th {\n",
       "        text-align: left;\n",
       "    }\n",
       "\n",
       "    .dataframe tbody tr th {\n",
       "        vertical-align: top;\n",
       "    }\n",
       "</style>\n",
       "<table border=\"1\" class=\"dataframe\">\n",
       "  <thead>\n",
       "    <tr style=\"text-align: right;\">\n",
       "      <th></th>\n",
       "      <th>MOVIE</th>\n",
       "      <th>total_revenue</th>\n",
       "    </tr>\n",
       "  </thead>\n",
       "  <tbody>\n",
       "    <tr>\n",
       "      <th>0</th>\n",
       "      <td>A Beautiful Mind</td>\n",
       "      <td>74851.0</td>\n",
       "    </tr>\n",
       "    <tr>\n",
       "      <th>1</th>\n",
       "      <td>American Beauty</td>\n",
       "      <td>165891.0</td>\n",
       "    </tr>\n",
       "    <tr>\n",
       "      <th>2</th>\n",
       "      <td>Batman</td>\n",
       "      <td>72861.0</td>\n",
       "    </tr>\n",
       "    <tr>\n",
       "      <th>3</th>\n",
       "      <td>Beverly Hills Cop</td>\n",
       "      <td>115915.0</td>\n",
       "    </tr>\n",
       "    <tr>\n",
       "      <th>4</th>\n",
       "      <td>Chicago</td>\n",
       "      <td>146062.0</td>\n",
       "    </tr>\n",
       "  </tbody>\n",
       "</table>\n",
       "</div>"
      ],
      "text/plain": [
       "               MOVIE  total_revenue\n",
       "0   A Beautiful Mind        74851.0\n",
       "1    American Beauty       165891.0\n",
       "2             Batman        72861.0\n",
       "3  Beverly Hills Cop       115915.0\n",
       "4            Chicago       146062.0"
      ]
     },
     "execution_count": 115,
     "metadata": {},
     "output_type": "execute_result"
    }
   ],
   "source": [
    "# Change the name to total_revenue\n",
    "movie_revenue.rename(columns={'WEEKEND_PER_THEATER':'total_revenue'}, inplace=True)\n",
    "movie_revenue.head()"
   ]
  },
  {
   "cell_type": "code",
   "execution_count": 116,
   "metadata": {},
   "outputs": [
    {
     "data": {
      "text/plain": [
       "0              American Beauty\n",
       "1            Beverly Hills Cop\n",
       "2                      Chicago\n",
       "3                           ET\n",
       "4     Empire Strikes Back, The\n",
       "5                 Forrest Gump\n",
       "6                   Home Alone\n",
       "7          Million Dollar Baby\n",
       "8      Raiders of the Lost Ark\n",
       "9           Return of the Jedi\n",
       "10         Shakespeare in Love\n",
       "11                   Star Wars\n",
       "12                     Titanic\n",
       "Name: MOVIE, dtype: object"
      ]
     },
     "execution_count": 116,
     "metadata": {},
     "output_type": "execute_result"
    }
   ],
   "source": [
    "# Step 3: find out movies whose total revenue are top 25%, meanwhile, reset index.\n",
    "movie_revenue[movie_revenue.total_revenue>revenue_75].MOVIE.reset_index(drop=True)"
   ]
  },
  {
   "cell_type": "markdown",
   "metadata": {},
   "source": [
    "# Goal 3: Are there any interesting trends throughout the year?\n"
   ]
  },
  {
   "cell_type": "code",
   "execution_count": null,
   "metadata": {
    "collapsed": true
   },
   "outputs": [],
   "source": [
    "#1. We want to explore what are the revenue numbers throught the year?"
   ]
  },
  {
   "cell_type": "code",
   "execution_count": 106,
   "metadata": {},
   "outputs": [
    {
     "data": {
      "text/plain": [
       "12"
      ]
     },
     "execution_count": 106,
     "metadata": {},
     "output_type": "execute_result"
    }
   ],
   "source": [
    "# def month extractor, meanwhile, make sure the month value is a integer, not a a string value\n",
    "# if month is a string, then it will not sort value correctly later in plot.\n",
    "def month_extractor(date):\n",
    "    date=str(date)\n",
    "    month=date[0:date.find('/')]\n",
    "    return int(month)\n",
    "\n",
    "month_extractor(\"12/23/11\")"
   ]
  },
  {
   "cell_type": "code",
   "execution_count": 117,
   "metadata": {
    "collapsed": true
   },
   "outputs": [],
   "source": [
    "# drop na value in the df\n",
    "movies=movies.dropna()"
   ]
  },
  {
   "cell_type": "code",
   "execution_count": 118,
   "metadata": {},
   "outputs": [
    {
     "data": {
      "text/html": [
       "<div>\n",
       "<style>\n",
       "    .dataframe thead tr:only-child th {\n",
       "        text-align: right;\n",
       "    }\n",
       "\n",
       "    .dataframe thead th {\n",
       "        text-align: left;\n",
       "    }\n",
       "\n",
       "    .dataframe tbody tr th {\n",
       "        vertical-align: top;\n",
       "    }\n",
       "</style>\n",
       "<table border=\"1\" class=\"dataframe\">\n",
       "  <thead>\n",
       "    <tr style=\"text-align: right;\">\n",
       "      <th></th>\n",
       "      <th>NUMBER</th>\n",
       "      <th>MOVIE</th>\n",
       "      <th>WEEK_NUM</th>\n",
       "      <th>WEEKEND_PER_THEATER</th>\n",
       "      <th>WEEKEND_DATE</th>\n",
       "      <th>MONTH</th>\n",
       "    </tr>\n",
       "  </thead>\n",
       "  <tbody>\n",
       "    <tr>\n",
       "      <th>0</th>\n",
       "      <td>1.0</td>\n",
       "      <td>A Beautiful Mind</td>\n",
       "      <td>1.0</td>\n",
       "      <td>701.0</td>\n",
       "      <td>12/21/01</td>\n",
       "      <td>12</td>\n",
       "    </tr>\n",
       "    <tr>\n",
       "      <th>1</th>\n",
       "      <td>1.0</td>\n",
       "      <td>A Beautiful Mind</td>\n",
       "      <td>2.0</td>\n",
       "      <td>14820.0</td>\n",
       "      <td>12/28/01</td>\n",
       "      <td>12</td>\n",
       "    </tr>\n",
       "    <tr>\n",
       "      <th>2</th>\n",
       "      <td>1.0</td>\n",
       "      <td>A Beautiful Mind</td>\n",
       "      <td>3.0</td>\n",
       "      <td>8940.0</td>\n",
       "      <td>1/4/02</td>\n",
       "      <td>1</td>\n",
       "    </tr>\n",
       "    <tr>\n",
       "      <th>3</th>\n",
       "      <td>1.0</td>\n",
       "      <td>A Beautiful Mind</td>\n",
       "      <td>4.0</td>\n",
       "      <td>6850.0</td>\n",
       "      <td>1/11/02</td>\n",
       "      <td>1</td>\n",
       "    </tr>\n",
       "    <tr>\n",
       "      <th>4</th>\n",
       "      <td>1.0</td>\n",
       "      <td>A Beautiful Mind</td>\n",
       "      <td>5.0</td>\n",
       "      <td>5280.0</td>\n",
       "      <td>1/18/02</td>\n",
       "      <td>1</td>\n",
       "    </tr>\n",
       "  </tbody>\n",
       "</table>\n",
       "</div>"
      ],
      "text/plain": [
       "   NUMBER             MOVIE  WEEK_NUM  WEEKEND_PER_THEATER WEEKEND_DATE  MONTH\n",
       "0     1.0  A Beautiful Mind       1.0                701.0     12/21/01     12\n",
       "1     1.0  A Beautiful Mind       2.0              14820.0     12/28/01     12\n",
       "2     1.0  A Beautiful Mind       3.0               8940.0       1/4/02      1\n",
       "3     1.0  A Beautiful Mind       4.0               6850.0      1/11/02      1\n",
       "4     1.0  A Beautiful Mind       5.0               5280.0      1/18/02      1"
      ]
     },
     "execution_count": 118,
     "metadata": {},
     "output_type": "execute_result"
    }
   ],
   "source": [
    "# create new column with month with the month_extractor function\n",
    "movies['MONTH']=movies['WEEKEND_DATE'].map(lambda x: month_extractor(x))\n",
    "movies.head()"
   ]
  },
  {
   "cell_type": "code",
   "execution_count": 119,
   "metadata": {
    "scrolled": false
   },
   "outputs": [
    {
     "data": {
      "text/html": [
       "<div>\n",
       "<style>\n",
       "    .dataframe thead tr:only-child th {\n",
       "        text-align: right;\n",
       "    }\n",
       "\n",
       "    .dataframe thead th {\n",
       "        text-align: left;\n",
       "    }\n",
       "\n",
       "    .dataframe tbody tr th {\n",
       "        vertical-align: top;\n",
       "    }\n",
       "</style>\n",
       "<table border=\"1\" class=\"dataframe\">\n",
       "  <thead>\n",
       "    <tr style=\"text-align: right;\">\n",
       "      <th></th>\n",
       "      <th>MONTH</th>\n",
       "      <th>month_revenue</th>\n",
       "    </tr>\n",
       "  </thead>\n",
       "  <tbody>\n",
       "    <tr>\n",
       "      <th>0</th>\n",
       "      <td>1</td>\n",
       "      <td>405437.0</td>\n",
       "    </tr>\n",
       "    <tr>\n",
       "      <th>1</th>\n",
       "      <td>2</td>\n",
       "      <td>230463.0</td>\n",
       "    </tr>\n",
       "    <tr>\n",
       "      <th>2</th>\n",
       "      <td>3</td>\n",
       "      <td>233415.0</td>\n",
       "    </tr>\n",
       "    <tr>\n",
       "      <th>3</th>\n",
       "      <td>4</td>\n",
       "      <td>114724.0</td>\n",
       "    </tr>\n",
       "    <tr>\n",
       "      <th>4</th>\n",
       "      <td>5</td>\n",
       "      <td>561024.0</td>\n",
       "    </tr>\n",
       "  </tbody>\n",
       "</table>\n",
       "</div>"
      ],
      "text/plain": [
       "   MONTH  month_revenue\n",
       "0      1       405437.0\n",
       "1      2       230463.0\n",
       "2      3       233415.0\n",
       "3      4       114724.0\n",
       "4      5       561024.0"
      ]
     },
     "execution_count": 119,
     "metadata": {},
     "output_type": "execute_result"
    }
   ],
   "source": [
    "# Calculate the total revenue for each month and sort them. \n",
    "# However, this will also give the table an extra column. If we do not want that column, just do sum.\n",
    "month_revenue=movies.groupby('MONTH')['WEEKEND_PER_THEATER'].sum().reset_index()\n",
    "month_revenue=month_revenue.sort_values('MONTH')\n",
    "# rename the Weekend_per_theater\n",
    "month_revenue.rename(columns={'WEEKEND_PER_THEATER':'month_revenue'}, inplace=True)\n",
    "month_revenue.head()"
   ]
  },
  {
   "cell_type": "code",
   "execution_count": 120,
   "metadata": {
    "collapsed": true
   },
   "outputs": [],
   "source": [
    "#convert month(object) to interger \n",
    "month_revenue['MONTH'] = month_revenue['MONTH'].astype('int')"
   ]
  },
  {
   "cell_type": "code",
   "execution_count": 74,
   "metadata": {},
   "outputs": [
    {
     "data": {
      "text/plain": [
       "<matplotlib.axes._subplots.AxesSubplot at 0x1a1f04e710>"
      ]
     },
     "execution_count": 74,
     "metadata": {},
     "output_type": "execute_result"
    },
    {
     "data": {
      "image/png": "[encoded data removed]",
      "text/plain": [
       "<matplotlib.figure.Figure at 0x113ad5cd0>"
      ]
     },
     "metadata": {},
     "output_type": "display_data"
    }
   ],
   "source": [
    "# create a scatter plot of month and total revenue of each month\n",
    "month_revenue.plot(x='MONTH', y='month_revenue', kind='scatter')"
   ]
  },
  {
   "cell_type": "code",
   "execution_count": 99,
   "metadata": {},
   "outputs": [
    {
     "data": {
      "image/png": "[encoded data removed]",
      "text/plain": [
       "<matplotlib.figure.Figure at 0x1a1edc4cd0>"
      ]
     },
     "metadata": {},
     "output_type": "display_data"
    }
   ],
   "source": [
    "month_revenue.month_revenue.plot(kind='bar');\n",
    "plt.xlabel('Month');\n",
    "plt.ylabel('Total Revenue');\n",
    "plt.title('Monthly Revenue');"
   ]
  },
  {
   "cell_type": "markdown",
   "metadata": {},
   "source": [
    "# Goal 4: Hypothesis testing: \n",
    "# whether 75% of total revenue is earned within first 3 weeks.（Bad movies may only earn the money in the first 3 weeks!!! Reputation goes down!!!!)/\n",
    "# Good movies, movies have high total revenue does not earn most money in the first three weeks.\n"
   ]
  },
  {
   "cell_type": "code",
   "execution_count": 153,
   "metadata": {},
   "outputs": [
    {
     "data": {
      "text/plain": [
       "count    1254.000000\n",
       "mean       14.915470\n",
       "std         9.996769\n",
       "min         1.000000\n",
       "25%         7.000000\n",
       "50%        13.000000\n",
       "75%        21.000000\n",
       "max        52.000000\n",
       "Name: WEEK_NUM, dtype: float64"
      ]
     },
     "execution_count": 153,
     "metadata": {},
     "output_type": "execute_result"
    }
   ],
   "source": [
    "# average number of weeks each movie display\n",
    "movies.WEEK_NUM.describe()"
   ]
  },
  {
   "cell_type": "code",
   "execution_count": 265,
   "metadata": {},
   "outputs": [
    {
     "data": {
      "text/html": [
       "<div>\n",
       "<style>\n",
       "    .dataframe thead tr:only-child th {\n",
       "        text-align: right;\n",
       "    }\n",
       "\n",
       "    .dataframe thead th {\n",
       "        text-align: left;\n",
       "    }\n",
       "\n",
       "    .dataframe tbody tr th {\n",
       "        vertical-align: top;\n",
       "    }\n",
       "</style>\n",
       "<table border=\"1\" class=\"dataframe\">\n",
       "  <thead>\n",
       "    <tr style=\"text-align: right;\">\n",
       "      <th></th>\n",
       "      <th>MOVIE</th>\n",
       "      <th>week3_revenue</th>\n",
       "    </tr>\n",
       "  </thead>\n",
       "  <tbody>\n",
       "    <tr>\n",
       "      <th>0</th>\n",
       "      <td>A Beautiful Mind</td>\n",
       "      <td>24461.0</td>\n",
       "    </tr>\n",
       "    <tr>\n",
       "      <th>1</th>\n",
       "      <td>American Beauty</td>\n",
       "      <td>79283.0</td>\n",
       "    </tr>\n",
       "    <tr>\n",
       "      <th>2</th>\n",
       "      <td>Batman</td>\n",
       "      <td>40871.0</td>\n",
       "    </tr>\n",
       "    <tr>\n",
       "      <th>3</th>\n",
       "      <td>Beverly Hills Cop</td>\n",
       "      <td>25272.0</td>\n",
       "    </tr>\n",
       "    <tr>\n",
       "      <th>4</th>\n",
       "      <td>Chicago</td>\n",
       "      <td>59000.0</td>\n",
       "    </tr>\n",
       "  </tbody>\n",
       "</table>\n",
       "</div>"
      ],
      "text/plain": [
       "               MOVIE  week3_revenue\n",
       "0   A Beautiful Mind        24461.0\n",
       "1    American Beauty        79283.0\n",
       "2             Batman        40871.0\n",
       "3  Beverly Hills Cop        25272.0\n",
       "4            Chicago        59000.0"
      ]
     },
     "execution_count": 265,
     "metadata": {},
     "output_type": "execute_result"
    }
   ],
   "source": [
    "# calcualte the total revenue of first 3 weeks. \n",
    "movies_week3=movies[movies.WEEK_NUM<4] # select the first three week num\n",
    "# calculate the revenue of the first three weeks\n",
    "movies_week3=movies_week3.groupby('MOVIE')['WEEKEND_PER_THEATER'].sum().reset_index()\n",
    "movies_week3\n",
    "# Change the name to week3_revenue\n",
    "movies_week3.rename(columns={'WEEKEND_PER_THEATER':'week3_revenue'}, inplace=True)\n",
    "movies_week3.head()"
   ]
  },
  {
   "cell_type": "code",
   "execution_count": 143,
   "metadata": {
    "collapsed": true
   },
   "outputs": [],
   "source": [
    "# merge dataframe to have both total revenue and proportion of revenue make in the first three weeks. \n",
    "movie_proportion=movie_revenue.merge(movies_week3,on='MOVIE')"
   ]
  },
  {
   "cell_type": "code",
   "execution_count": 144,
   "metadata": {},
   "outputs": [
    {
     "data": {
      "text/html": [
       "<div>\n",
       "<style>\n",
       "    .dataframe thead tr:only-child th {\n",
       "        text-align: right;\n",
       "    }\n",
       "\n",
       "    .dataframe thead th {\n",
       "        text-align: left;\n",
       "    }\n",
       "\n",
       "    .dataframe tbody tr th {\n",
       "        vertical-align: top;\n",
       "    }\n",
       "</style>\n",
       "<table border=\"1\" class=\"dataframe\">\n",
       "  <thead>\n",
       "    <tr style=\"text-align: right;\">\n",
       "      <th></th>\n",
       "      <th>MOVIE</th>\n",
       "      <th>total_revenue</th>\n",
       "      <th>week3_revenue</th>\n",
       "    </tr>\n",
       "  </thead>\n",
       "  <tbody>\n",
       "    <tr>\n",
       "      <th>0</th>\n",
       "      <td>A Beautiful Mind</td>\n",
       "      <td>74851.0</td>\n",
       "      <td>24461.0</td>\n",
       "    </tr>\n",
       "    <tr>\n",
       "      <th>1</th>\n",
       "      <td>American Beauty</td>\n",
       "      <td>165891.0</td>\n",
       "      <td>79283.0</td>\n",
       "    </tr>\n",
       "    <tr>\n",
       "      <th>2</th>\n",
       "      <td>Batman</td>\n",
       "      <td>72861.0</td>\n",
       "      <td>40871.0</td>\n",
       "    </tr>\n",
       "    <tr>\n",
       "      <th>3</th>\n",
       "      <td>Beverly Hills Cop</td>\n",
       "      <td>115915.0</td>\n",
       "      <td>25272.0</td>\n",
       "    </tr>\n",
       "    <tr>\n",
       "      <th>4</th>\n",
       "      <td>Chicago</td>\n",
       "      <td>146062.0</td>\n",
       "      <td>59000.0</td>\n",
       "    </tr>\n",
       "  </tbody>\n",
       "</table>\n",
       "</div>"
      ],
      "text/plain": [
       "               MOVIE  total_revenue  week3_revenue\n",
       "0   A Beautiful Mind        74851.0        24461.0\n",
       "1    American Beauty       165891.0        79283.0\n",
       "2             Batman        72861.0        40871.0\n",
       "3  Beverly Hills Cop       115915.0        25272.0\n",
       "4            Chicago       146062.0        59000.0"
      ]
     },
     "execution_count": 144,
     "metadata": {},
     "output_type": "execute_result"
    }
   ],
   "source": [
    "movie_proportion.head()"
   ]
  },
  {
   "cell_type": "markdown",
   "metadata": {},
   "source": [
    "# interesting finding of pandas 1: could use variables in the dataframe to do calculation"
   ]
  },
  {
   "cell_type": "code",
   "execution_count": 266,
   "metadata": {},
   "outputs": [
    {
     "data": {
      "text/html": [
       "<div>\n",
       "<style>\n",
       "    .dataframe thead tr:only-child th {\n",
       "        text-align: right;\n",
       "    }\n",
       "\n",
       "    .dataframe thead th {\n",
       "        text-align: left;\n",
       "    }\n",
       "\n",
       "    .dataframe tbody tr th {\n",
       "        vertical-align: top;\n",
       "    }\n",
       "</style>\n",
       "<table border=\"1\" class=\"dataframe\">\n",
       "  <thead>\n",
       "    <tr style=\"text-align: right;\">\n",
       "      <th></th>\n",
       "      <th>MOVIE</th>\n",
       "      <th>total_revenue</th>\n",
       "      <th>week3_revenue</th>\n",
       "      <th>proportion</th>\n",
       "    </tr>\n",
       "  </thead>\n",
       "  <tbody>\n",
       "    <tr>\n",
       "      <th>10</th>\n",
       "      <td>Ghost Busters</td>\n",
       "      <td>113540.0</td>\n",
       "      <td>29369.0</td>\n",
       "      <td>0.258667</td>\n",
       "    </tr>\n",
       "    <tr>\n",
       "      <th>3</th>\n",
       "      <td>Beverly Hills Cop</td>\n",
       "      <td>115915.0</td>\n",
       "      <td>25272.0</td>\n",
       "      <td>0.218022</td>\n",
       "    </tr>\n",
       "    <tr>\n",
       "      <th>46</th>\n",
       "      <td>Titanic</td>\n",
       "      <td>165701.0</td>\n",
       "      <td>36005.0</td>\n",
       "      <td>0.217289</td>\n",
       "    </tr>\n",
       "    <tr>\n",
       "      <th>7</th>\n",
       "      <td>ET</td>\n",
       "      <td>201257.0</td>\n",
       "      <td>33148.0</td>\n",
       "      <td>0.164705</td>\n",
       "    </tr>\n",
       "    <tr>\n",
       "      <th>31</th>\n",
       "      <td>Raiders of the Lost Ark</td>\n",
       "      <td>144778.0</td>\n",
       "      <td>21702.0</td>\n",
       "      <td>0.149898</td>\n",
       "    </tr>\n",
       "  </tbody>\n",
       "</table>\n",
       "</div>"
      ],
      "text/plain": [
       "                      MOVIE  total_revenue  week3_revenue  proportion\n",
       "10            Ghost Busters       113540.0        29369.0    0.258667\n",
       "3         Beverly Hills Cop       115915.0        25272.0    0.218022\n",
       "46                  Titanic       165701.0        36005.0    0.217289\n",
       "7                        ET       201257.0        33148.0    0.164705\n",
       "31  Raiders of the Lost Ark       144778.0        21702.0    0.149898"
      ]
     },
     "execution_count": 266,
     "metadata": {},
     "output_type": "execute_result"
    }
   ],
   "source": [
    "# calculate the proportion of revenue earned in the first 3 weeks and sort descending\n",
    "movie_proportion['proportion']=movie_proportion.week3_revenue/movie_proportion.total_revenue\n",
    "movie_proportion=movie_proportion.sort_values('proportion', ascending=False)\n",
    "movie_proportion.tail()"
   ]
  },
  {
   "cell_type": "code",
   "execution_count": 161,
   "metadata": {},
   "outputs": [
    {
     "data": {
      "text/html": [
       "<div>\n",
       "<style>\n",
       "    .dataframe thead tr:only-child th {\n",
       "        text-align: right;\n",
       "    }\n",
       "\n",
       "    .dataframe thead th {\n",
       "        text-align: left;\n",
       "    }\n",
       "\n",
       "    .dataframe tbody tr th {\n",
       "        vertical-align: top;\n",
       "    }\n",
       "</style>\n",
       "<table border=\"1\" class=\"dataframe\">\n",
       "  <thead>\n",
       "    <tr style=\"text-align: right;\">\n",
       "      <th></th>\n",
       "      <th>total_revenue</th>\n",
       "      <th>week3_revenue</th>\n",
       "      <th>proportion</th>\n",
       "    </tr>\n",
       "  </thead>\n",
       "  <tbody>\n",
       "    <tr>\n",
       "      <th>count</th>\n",
       "      <td>49.000000</td>\n",
       "      <td>49.000000</td>\n",
       "      <td>49.000000</td>\n",
       "    </tr>\n",
       "    <tr>\n",
       "      <th>mean</th>\n",
       "      <td>92970.061224</td>\n",
       "      <td>41017.510204</td>\n",
       "      <td>0.481095</td>\n",
       "    </tr>\n",
       "    <tr>\n",
       "      <th>std</th>\n",
       "      <td>45744.389490</td>\n",
       "      <td>17766.389451</td>\n",
       "      <td>0.169982</td>\n",
       "    </tr>\n",
       "    <tr>\n",
       "      <th>min</th>\n",
       "      <td>13853.000000</td>\n",
       "      <td>5304.000000</td>\n",
       "      <td>0.149898</td>\n",
       "    </tr>\n",
       "    <tr>\n",
       "      <th>25%</th>\n",
       "      <td>63638.000000</td>\n",
       "      <td>30010.000000</td>\n",
       "      <td>0.355652</td>\n",
       "    </tr>\n",
       "    <tr>\n",
       "      <th>50%</th>\n",
       "      <td>74851.000000</td>\n",
       "      <td>38182.000000</td>\n",
       "      <td>0.475166</td>\n",
       "    </tr>\n",
       "    <tr>\n",
       "      <th>75%</th>\n",
       "      <td>115915.000000</td>\n",
       "      <td>49708.000000</td>\n",
       "      <td>0.619845</td>\n",
       "    </tr>\n",
       "    <tr>\n",
       "      <th>max</th>\n",
       "      <td>228181.000000</td>\n",
       "      <td>102034.000000</td>\n",
       "      <td>0.794850</td>\n",
       "    </tr>\n",
       "  </tbody>\n",
       "</table>\n",
       "</div>"
      ],
      "text/plain": [
       "       total_revenue  week3_revenue  proportion\n",
       "count      49.000000      49.000000   49.000000\n",
       "mean    92970.061224   41017.510204    0.481095\n",
       "std     45744.389490   17766.389451    0.169982\n",
       "min     13853.000000    5304.000000    0.149898\n",
       "25%     63638.000000   30010.000000    0.355652\n",
       "50%     74851.000000   38182.000000    0.475166\n",
       "75%    115915.000000   49708.000000    0.619845\n",
       "max    228181.000000  102034.000000    0.794850"
      ]
     },
     "execution_count": 161,
     "metadata": {},
     "output_type": "execute_result"
    }
   ],
   "source": [
    "movie_proportion.describe()"
   ]
  },
  {
   "cell_type": "code",
   "execution_count": 267,
   "metadata": {},
   "outputs": [
    {
     "data": {
      "text/plain": [
       "<matplotlib.axes._subplots.AxesSubplot at 0x1a251ee690>"
      ]
     },
     "execution_count": 267,
     "metadata": {},
     "output_type": "execute_result"
    },
    {
     "data": {
      "image/png": "[encoded data removed]",
      "text/plain": [
       "<matplotlib.figure.Figure at 0x1a24fd5610>"
      ]
     },
     "metadata": {},
     "output_type": "display_data"
    }
   ],
   "source": [
    "# plot \n",
    "movie_proportion.plot(x='MOVIE', y='proportion', kind='bar')\n"
   ]
  },
  {
   "cell_type": "markdown",
   "metadata": {},
   "source": [
    "# interesing about pandas 2: can use the regression function and do the plot. Some statistic software might not be able to do this. "
   ]
  },
  {
   "cell_type": "code",
   "execution_count": 166,
   "metadata": {},
   "outputs": [
    {
     "data": {
      "text/plain": [
       "<matplotlib.axes._subplots.AxesSubplot at 0x1a1fcdd3d0>"
      ]
     },
     "execution_count": 166,
     "metadata": {},
     "output_type": "execute_result"
    },
    {
     "data": {
      "image/png": "[encoded data removed]",
      "text/plain": [
       "<matplotlib.figure.Figure at 0x1a1fce6310>"
      ]
     },
     "metadata": {},
     "output_type": "display_data"
    }
   ],
   "source": [
    "# relationship between total revenue and proportion of revenue earned within the first 3 weeks.\n",
    "sns.regplot(movie_proportion['proportion'], movie_proportion['total_revenue'])"
   ]
  },
  {
   "cell_type": "markdown",
   "metadata": {},
   "source": [
    "# Goal 5: Any relationship between week numbers and total revenue\n",
    "(Any relationship between how you play & How much money you made?)"
   ]
  },
  {
   "cell_type": "code",
   "execution_count": 238,
   "metadata": {},
   "outputs": [
    {
     "data": {
      "text/html": [
       "<div>\n",
       "<style>\n",
       "    .dataframe thead tr:only-child th {\n",
       "        text-align: right;\n",
       "    }\n",
       "\n",
       "    .dataframe thead th {\n",
       "        text-align: left;\n",
       "    }\n",
       "\n",
       "    .dataframe tbody tr th {\n",
       "        vertical-align: top;\n",
       "    }\n",
       "</style>\n",
       "<table border=\"1\" class=\"dataframe\">\n",
       "  <thead>\n",
       "    <tr style=\"text-align: right;\">\n",
       "      <th></th>\n",
       "      <th>MOVIE</th>\n",
       "      <th>total_week_num</th>\n",
       "    </tr>\n",
       "  </thead>\n",
       "  <tbody>\n",
       "    <tr>\n",
       "      <th>0</th>\n",
       "      <td>ET</td>\n",
       "      <td>52</td>\n",
       "    </tr>\n",
       "    <tr>\n",
       "      <th>1</th>\n",
       "      <td>Raiders of the Lost Ark</td>\n",
       "      <td>43</td>\n",
       "    </tr>\n",
       "    <tr>\n",
       "      <th>2</th>\n",
       "      <td>Return of the Jedi</td>\n",
       "      <td>42</td>\n",
       "    </tr>\n",
       "    <tr>\n",
       "      <th>3</th>\n",
       "      <td>Forrest Gump</td>\n",
       "      <td>42</td>\n",
       "    </tr>\n",
       "    <tr>\n",
       "      <th>4</th>\n",
       "      <td>Titanic</td>\n",
       "      <td>41</td>\n",
       "    </tr>\n",
       "  </tbody>\n",
       "</table>\n",
       "</div>"
      ],
      "text/plain": [
       "                     MOVIE  total_week_num\n",
       "0                       ET              52\n",
       "1  Raiders of the Lost Ark              43\n",
       "2       Return of the Jedi              42\n",
       "3             Forrest Gump              42\n",
       "4                  Titanic              41"
      ]
     },
     "execution_count": 238,
     "metadata": {},
     "output_type": "execute_result"
    }
   ],
   "source": [
    "# calculate total wek\n",
    "total_week=top10.reset_index()\n",
    "total_week.head()\n",
    "total_week=total_week.rename(columns={'index':'MOVIE', 'MOVIE':'total_week_num'})\n",
    "total_week.head()"
   ]
  },
  {
   "cell_type": "code",
   "execution_count": 232,
   "metadata": {},
   "outputs": [
    {
     "data": {
      "text/html": [
       "<div>\n",
       "<style>\n",
       "    .dataframe thead tr:only-child th {\n",
       "        text-align: right;\n",
       "    }\n",
       "\n",
       "    .dataframe thead th {\n",
       "        text-align: left;\n",
       "    }\n",
       "\n",
       "    .dataframe tbody tr th {\n",
       "        vertical-align: top;\n",
       "    }\n",
       "</style>\n",
       "<table border=\"1\" class=\"dataframe\">\n",
       "  <thead>\n",
       "    <tr style=\"text-align: right;\">\n",
       "      <th></th>\n",
       "      <th>MOVIE</th>\n",
       "      <th>WEEKEND_PER_THEATER</th>\n",
       "    </tr>\n",
       "  </thead>\n",
       "  <tbody>\n",
       "    <tr>\n",
       "      <th>0</th>\n",
       "      <td>Star Wars</td>\n",
       "      <td>228181.0</td>\n",
       "    </tr>\n",
       "    <tr>\n",
       "      <th>1</th>\n",
       "      <td>ET</td>\n",
       "      <td>201257.0</td>\n",
       "    </tr>\n",
       "    <tr>\n",
       "      <th>2</th>\n",
       "      <td>Empire Strikes Back, The</td>\n",
       "      <td>178013.0</td>\n",
       "    </tr>\n",
       "    <tr>\n",
       "      <th>3</th>\n",
       "      <td>American Beauty</td>\n",
       "      <td>165891.0</td>\n",
       "    </tr>\n",
       "    <tr>\n",
       "      <th>4</th>\n",
       "      <td>Titanic</td>\n",
       "      <td>165701.0</td>\n",
       "    </tr>\n",
       "  </tbody>\n",
       "</table>\n",
       "</div>"
      ],
      "text/plain": [
       "                      MOVIE  WEEKEND_PER_THEATER\n",
       "0                 Star Wars             228181.0\n",
       "1                        ET             201257.0\n",
       "2  Empire Strikes Back, The             178013.0\n",
       "3           American Beauty             165891.0\n",
       "4                   Titanic             165701.0"
      ]
     },
     "execution_count": 232,
     "metadata": {},
     "output_type": "execute_result"
    }
   ],
   "source": [
    "# calculate total revenue\n",
    "total_revenue=sorted_investment.reset_index()\n",
    "total_revenue.head()"
   ]
  },
  {
   "cell_type": "code",
   "execution_count": 239,
   "metadata": {},
   "outputs": [
    {
     "data": {
      "text/html": [
       "<div>\n",
       "<style>\n",
       "    .dataframe thead tr:only-child th {\n",
       "        text-align: right;\n",
       "    }\n",
       "\n",
       "    .dataframe thead th {\n",
       "        text-align: left;\n",
       "    }\n",
       "\n",
       "    .dataframe tbody tr th {\n",
       "        vertical-align: top;\n",
       "    }\n",
       "</style>\n",
       "<table border=\"1\" class=\"dataframe\">\n",
       "  <thead>\n",
       "    <tr style=\"text-align: right;\">\n",
       "      <th></th>\n",
       "      <th>MOVIE</th>\n",
       "      <th>total_week_num</th>\n",
       "      <th>WEEKEND_PER_THEATER</th>\n",
       "    </tr>\n",
       "  </thead>\n",
       "  <tbody>\n",
       "    <tr>\n",
       "      <th>0</th>\n",
       "      <td>ET</td>\n",
       "      <td>52</td>\n",
       "      <td>201257.0</td>\n",
       "    </tr>\n",
       "    <tr>\n",
       "      <th>1</th>\n",
       "      <td>Raiders of the Lost Ark</td>\n",
       "      <td>43</td>\n",
       "      <td>144778.0</td>\n",
       "    </tr>\n",
       "    <tr>\n",
       "      <th>2</th>\n",
       "      <td>Return of the Jedi</td>\n",
       "      <td>42</td>\n",
       "      <td>163572.0</td>\n",
       "    </tr>\n",
       "    <tr>\n",
       "      <th>3</th>\n",
       "      <td>Forrest Gump</td>\n",
       "      <td>42</td>\n",
       "      <td>128534.0</td>\n",
       "    </tr>\n",
       "    <tr>\n",
       "      <th>4</th>\n",
       "      <td>Titanic</td>\n",
       "      <td>41</td>\n",
       "      <td>165701.0</td>\n",
       "    </tr>\n",
       "    <tr>\n",
       "      <th>5</th>\n",
       "      <td>American Beauty</td>\n",
       "      <td>38</td>\n",
       "      <td>165891.0</td>\n",
       "    </tr>\n",
       "    <tr>\n",
       "      <th>6</th>\n",
       "      <td>Chicago</td>\n",
       "      <td>36</td>\n",
       "      <td>146062.0</td>\n",
       "    </tr>\n",
       "    <tr>\n",
       "      <th>7</th>\n",
       "      <td>Gladiator</td>\n",
       "      <td>33</td>\n",
       "      <td>73643.0</td>\n",
       "    </tr>\n",
       "    <tr>\n",
       "      <th>8</th>\n",
       "      <td>Beverly Hills Cop</td>\n",
       "      <td>33</td>\n",
       "      <td>115915.0</td>\n",
       "    </tr>\n",
       "    <tr>\n",
       "      <th>9</th>\n",
       "      <td>Shakespeare in Love</td>\n",
       "      <td>33</td>\n",
       "      <td>126779.0</td>\n",
       "    </tr>\n",
       "  </tbody>\n",
       "</table>\n",
       "</div>"
      ],
      "text/plain": [
       "                     MOVIE  total_week_num  WEEKEND_PER_THEATER\n",
       "0                       ET              52             201257.0\n",
       "1  Raiders of the Lost Ark              43             144778.0\n",
       "2       Return of the Jedi              42             163572.0\n",
       "3             Forrest Gump              42             128534.0\n",
       "4                  Titanic              41             165701.0\n",
       "5          American Beauty              38             165891.0\n",
       "6                  Chicago              36             146062.0\n",
       "7                Gladiator              33              73643.0\n",
       "8        Beverly Hills Cop              33             115915.0\n",
       "9      Shakespeare in Love              33             126779.0"
      ]
     },
     "execution_count": 239,
     "metadata": {},
     "output_type": "execute_result"
    }
   ],
   "source": [
    "ave_revenue=total_week.merge(total_revenue,on='MOVIE')\n",
    "ave_revenue.head(10)"
   ]
  },
  {
   "cell_type": "code",
   "execution_count": 240,
   "metadata": {},
   "outputs": [
    {
     "data": {
      "text/plain": [
       "<matplotlib.axes._subplots.AxesSubplot at 0x1a205e5850>"
      ]
     },
     "execution_count": 240,
     "metadata": {},
     "output_type": "execute_result"
    },
    {
     "data": {
      "image/png": "[encoded data removed]",
      "text/plain": [
       "<matplotlib.figure.Figure at 0x1a2084e150>"
      ]
     },
     "metadata": {},
     "output_type": "display_data"
    }
   ],
   "source": [
    "sns.regplot(ave_revenue['total_week_num'], ave_revenue['WEEKEND_PER_THEATER'])"
   ]
  },
  {
   "cell_type": "markdown",
   "metadata": {},
   "source": [
    "# Goal 6: Whether there is a relationship between average week_revenue and total week number?(does play movie longer make higher weekly revenue)?\n"
   ]
  },
  {
   "cell_type": "code",
   "execution_count": 241,
   "metadata": {},
   "outputs": [
    {
     "data": {
      "text/html": [
       "<div>\n",
       "<style>\n",
       "    .dataframe thead tr:only-child th {\n",
       "        text-align: right;\n",
       "    }\n",
       "\n",
       "    .dataframe thead th {\n",
       "        text-align: left;\n",
       "    }\n",
       "\n",
       "    .dataframe tbody tr th {\n",
       "        vertical-align: top;\n",
       "    }\n",
       "</style>\n",
       "<table border=\"1\" class=\"dataframe\">\n",
       "  <thead>\n",
       "    <tr style=\"text-align: right;\">\n",
       "      <th></th>\n",
       "      <th>MOVIE</th>\n",
       "      <th>total_week_num</th>\n",
       "      <th>WEEKEND_PER_THEATER</th>\n",
       "      <th>week_revenue</th>\n",
       "    </tr>\n",
       "  </thead>\n",
       "  <tbody>\n",
       "    <tr>\n",
       "      <th>42</th>\n",
       "      <td>Empire Strikes Back, The</td>\n",
       "      <td>15</td>\n",
       "      <td>178013.0</td>\n",
       "      <td>11867.533333</td>\n",
       "    </tr>\n",
       "    <tr>\n",
       "      <th>13</th>\n",
       "      <td>Star Wars</td>\n",
       "      <td>31</td>\n",
       "      <td>228181.0</td>\n",
       "      <td>7360.677419</td>\n",
       "    </tr>\n",
       "    <tr>\n",
       "      <th>21</th>\n",
       "      <td>Million Dollar Baby</td>\n",
       "      <td>25</td>\n",
       "      <td>154115.0</td>\n",
       "      <td>6164.600000</td>\n",
       "    </tr>\n",
       "    <tr>\n",
       "      <th>41</th>\n",
       "      <td>Spider-Man</td>\n",
       "      <td>16</td>\n",
       "      <td>93854.0</td>\n",
       "      <td>5865.875000</td>\n",
       "    </tr>\n",
       "    <tr>\n",
       "      <th>46</th>\n",
       "      <td>Spider-Man 3</td>\n",
       "      <td>12</td>\n",
       "      <td>70368.0</td>\n",
       "      <td>5864.000000</td>\n",
       "    </tr>\n",
       "  </tbody>\n",
       "</table>\n",
       "</div>"
      ],
      "text/plain": [
       "                       MOVIE  total_week_num  WEEKEND_PER_THEATER  \\\n",
       "42  Empire Strikes Back, The              15             178013.0   \n",
       "13                 Star Wars              31             228181.0   \n",
       "21       Million Dollar Baby              25             154115.0   \n",
       "41                Spider-Man              16              93854.0   \n",
       "46              Spider-Man 3              12              70368.0   \n",
       "\n",
       "    week_revenue  \n",
       "42  11867.533333  \n",
       "13   7360.677419  \n",
       "21   6164.600000  \n",
       "41   5865.875000  \n",
       "46   5864.000000  "
      ]
     },
     "execution_count": 241,
     "metadata": {},
     "output_type": "execute_result"
    }
   ],
   "source": [
    "ave_revenue['week_revenue']=ave_revenue.WEEKEND_PER_THEATER/ave_revenue.total_week_num\n",
    "ave_revenue=ave_revenue.sort_values('week_revenue', ascending=False)\n",
    "ave_revenue.head()"
   ]
  },
  {
   "cell_type": "code",
   "execution_count": 236,
   "metadata": {},
   "outputs": [
    {
     "data": {
      "text/plain": [
       "<matplotlib.axes._subplots.AxesSubplot at 0x1a206efc50>"
      ]
     },
     "execution_count": 236,
     "metadata": {},
     "output_type": "execute_result"
    },
    {
     "data": {
      "image/png": "[encoded data removed]",
      "text/plain": [
       "<matplotlib.figure.Figure at 0x1a205abe50>"
      ]
     },
     "metadata": {},
     "output_type": "display_data"
    }
   ],
   "source": [
    "sns.regplot(ave_revenue['week_revenue'], ave_revenue['total_week_num'])"
   ]
  },
  {
   "cell_type": "markdown",
   "metadata": {},
   "source": [
    "# relationship does not seem strong and clear. There are outliers."
   ]
  }
 ],
 "metadata": {
  "kernelspec": {
   "display_name": "Python 2",
   "language": "python",
   "name": "python2"
  },
  "language_info": {
   "codemirror_mode": {
    "name": "ipython",
    "version": 2
   },
   "file_extension": ".py",
   "mimetype": "text/x-python",
   "name": "python",
   "nbconvert_exporter": "python",
   "pygments_lexer": "ipython2",
   "version": "2.7.14"
  }
 },
 "nbformat": 4,
 "nbformat_minor": 2
}
